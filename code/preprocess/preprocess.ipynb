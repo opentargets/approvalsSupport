{
 "cells": [
  {
   "cell_type": "code",
   "execution_count": 16,
   "metadata": {},
   "outputs": [],
   "source": [
    "from pyspark.sql import SparkSession\n",
    "import pyspark.sql.functions as f\n",
    "from pyspark.sql.functions import explode, split\n",
    "from pyspark.sql.functions import upper\n",
    "from pyspark.sql import DataFrame"
   ]
  },
  {
   "cell_type": "code",
   "execution_count": 2,
   "metadata": {},
   "outputs": [
    {
     "name": "stderr",
     "output_type": "stream",
     "text": [
      "Setting default log level to \"WARN\".\n",
      "To adjust logging level use sc.setLogLevel(newLevel). For SparkR, use setLogLevel(newLevel).\n",
      "24/01/10 13:28:33 INFO SparkEnv: Registering MapOutputTracker\n",
      "24/01/10 13:28:33 INFO SparkEnv: Registering BlockManagerMaster\n",
      "24/01/10 13:28:33 INFO SparkEnv: Registering BlockManagerMasterHeartbeat\n",
      "24/01/10 13:28:33 INFO SparkEnv: Registering OutputCommitCoordinator\n"
     ]
    }
   ],
   "source": [
    "spark = SparkSession.builder.getOrCreate()"
   ]
  },
  {
   "cell_type": "code",
   "execution_count": 7,
   "metadata": {},
   "outputs": [],
   "source": [
    "import pandas as pd\n",
    "\n",
    "# Try different encodings until one works\n",
    "try:\n",
    "    initial_approvals = pd.read_csv(\"../../data/2023/2023_approvals_in_v0.csv\", encoding='ISO-8859-1')\n",
    "except UnicodeDecodeError:\n",
    "    try:\n",
    "        initial_approvals = pd.read_csv(\"../../data/2023/2023_approvals_in_v0.csv\", encoding='latin1')\n",
    "    except UnicodeDecodeError:\n",
    "        initial_approvals = pd.read_csv(\"../../data/2023/2023_approvals_in_v0.csv\", encoding='cp1252')\n",
    "\n",
    "initial_approvals = spark.createDataFrame(initial_approvals)\n",
    "# initial_approvals = spark.read.option(\"header\", \"true\").csv(\"../../data/2023/2023_approvals_in_v0.csv\").persist()\n",
    "\n",
    "# initial_approvals.show()"
   ]
  },
  {
   "cell_type": "code",
   "execution_count": 11,
   "metadata": {},
   "outputs": [
    {
     "name": "stdout",
     "output_type": "stream",
     "text": [
      "+-------------+--------------------+--------------------+------+--------------+--------------------+---------------+--------------------+-----------+----------+------------+----------+------------+---------------------+\n",
      "|brandDrugName|    originalDrugName|            drugName|drugId|       sponsor|          properties|therapeuticArea|          indication|diseaseName|diseaseIds|diseaseClass|reviewType|yearApproval|originalDrugNameArray|\n",
      "+-------------+--------------------+--------------------+------+--------------+--------------------+---------------+--------------------+-----------+----------+------------+----------+------------+---------------------+\n",
      "|      Leqembi|           Lecanemab|           Lecanemab|   NaN|  Eisai/Biogen|Amyloid-_-targete...|            NaN|   Alzheimer disease|        NaN|       NaN|         NaN|       NaN|        2023|          [Lecanemab]|\n",
      "|    Brenzavvy|       Bexagliflozin|       Bexagliflozin|   NaN|   Theracosbio|     SGLT2 inhibitor|            NaN|Glycaemic control...|        NaN|       NaN|         NaN|       NaN|        2023|      [Bexagliflozin]|\n",
      "|     Jaypirca|       Pirtobrutinib|       Pirtobrutinib|   NaN|Loxo/Eli Lilly|       BTK inhibitor|            NaN|Mantle cell lymphoma|        NaN|       NaN|         NaN|       NaN|        2023|      [Pirtobrutinib]|\n",
      "|      Orserdu|         Elacestrant|         Elacestrant|   NaN|      Stemline|       ER antagonist|            NaN|ER-positive, HER2...|        NaN|       NaN|         NaN|       NaN|        2023|        [Elacestrant]|\n",
      "|    Jesduvroq|         Daprodustat|         Daprodustat|   NaN|           GSK|    HIF-PH inhibitor|            NaN|Anaemia caused by...|        NaN|       NaN|         NaN|       NaN|        2023|        [Daprodustat]|\n",
      "|      Lamzede|      Velmanase alfa|      Velmanase alfa|   NaN|        Chiesi|Recombinant _-man...|            NaN|Non-CNS manifesta...|        NaN|       NaN|         NaN|       NaN|        2023|     [Velmanase alfa]|\n",
      "|     Filspari|          Sparsentan|          Sparsentan|   NaN|       Travere|Endothelin and an...|            NaN|Proteinuria in pr...|        NaN|       NaN|         NaN|       NaN|        2023|         [Sparsentan]|\n",
      "|    Skyclarys|       Omaveloxolone|       Omaveloxolone|   NaN|  Reata/Biogen|Mechanism unknown...|            NaN|  FriedrichÕs ataxia|        NaN|       NaN|         NaN|       NaN|        2023|      [Omaveloxolone]|\n",
      "|     Zavzpret|          Zavegepant|          Zavegepant|   NaN|        Pfizer|CGRP receptor ant...|            NaN|            Migraine|        NaN|       NaN|         NaN|       NaN|        2023|         [Zavegepant]|\n",
      "|       Daybue|         Trofinetide|         Trofinetide|   NaN|        Acadia|   Mechanism unknown|            NaN|       Rett syndrome|        NaN|       NaN|         NaN|       NaN|        2023|        [Trofinetide]|\n",
      "|        Zynyz|        Retifanlimab|        Retifanlimab|   NaN|        Incyte|    PD1-targeted mAb|            NaN|Merkel cell carci...|        NaN|       NaN|         NaN|       NaN|        2023|       [Retifanlimab]|\n",
      "|      Rezzayo|          Rezafungin|          Rezafungin|   NaN|        Cidara|Echinocandin anti...|            NaN|Candidemia and in...|        NaN|       NaN|         NaN|       NaN|        2023|         [Rezafungin]|\n",
      "|       Joenja|          Leniolisib|          Leniolisib|   NaN|      Pharming|     PI3K_ inhibitor|            NaN|Activated PI3K_ s...|        NaN|       NaN|         NaN|       NaN|        2023|         [Leniolisib]|\n",
      "|      Qalsody|            Tofersen|            Tofersen|   NaN|        Biogen|   SOD1-targeted ASO|            NaN|SOD1Êamyotrophic ...|        NaN|       NaN|         NaN|       NaN|        2023|           [Tofersen]|\n",
      "|     Elfabrio|Pegunigalsidase alfa|Pegunigalsidase alfa|   NaN|        Chiesi|PEGylated recombi...|            NaN|       Fabry disease|        NaN|       NaN|         NaN|       NaN|        2023| [Pegunigalsidase ...|\n",
      "|       Veozah|        Fezolinetant|        Fezolinetant|   NaN|      Astellas|Neurokinin 3 rece...|            NaN|Hot flashes cause...|        NaN|       NaN|         NaN|       NaN|        2023|       [Fezolinetant]|\n",
      "|        Miebo|Perfluorohexyloctane|Perfluorohexyloctane|   NaN| Bausch + Lomb|Semifluorinated a...|            NaN|     Dry eye disease|        NaN|       NaN|         NaN|       NaN|        2023| [Perfluorohexyloc...|\n",
      "|      Epkinly|         Epcoritamab|         Epcoritamab|   NaN| Genmab/AbbVie|CD20 _ CD3 T-cell...|            NaN|DLBCL and high-gr...|        NaN|       NaN|         NaN|       NaN|        2023|        [Epcoritamab]|\n",
      "|      Xacduro|Sulbactam, durlob...|           Sulbactam|   NaN|       Entasis|_-lactam antibact...|            NaN|Hospital-acquired...|        NaN|       NaN|         NaN|       NaN|        2023| [Sulbactam,  durl...|\n",
      "|      Xacduro|Sulbactam, durlob...|         durlobactam|   NaN|       Entasis|_-lactam antibact...|            NaN|Hospital-acquired...|        NaN|       NaN|         NaN|       NaN|        2023| [Sulbactam,  durl...|\n",
      "+-------------+--------------------+--------------------+------+--------------+--------------------+---------------+--------------------+-----------+----------+------------+----------+------------+---------------------+\n",
      "only showing top 20 rows\n",
      "\n"
     ]
    }
   ],
   "source": [
    "# originalDrugName explode\n",
    "initial_approvals = initial_approvals.withColumn(\"originalDrugNameArray\", split(initial_approvals.originalDrugName, \",\"))\n",
    "exploded_approvals = initial_approvals.withColumn(\"drugName\", explode(initial_approvals.originalDrugNameArray))\n",
    "\n",
    "exploded_approvals.show()\n"
   ]
  },
  {
   "cell_type": "markdown",
   "metadata": {},
   "source": [
    "### Finding drugId by drugName"
   ]
  },
  {
   "cell_type": "code",
   "execution_count": 12,
   "metadata": {},
   "outputs": [
    {
     "name": "stderr",
     "output_type": "stream",
     "text": [
      "[Stage 6:>                                                          (0 + 1) / 1]\r"
     ]
    },
    {
     "name": "stdout",
     "output_type": "stream",
     "text": [
      "+---------------+--------------------+--------------------+--------------------+--------------------+--------------+----------------+-------------+--------------------+----------+--------------------+--------------------+-------------------------+--------------------+-------------+--------------------+--------------------+-------------------+\n",
      "|blackBoxWarning|     canonicalSmiles|      childChemblIds|     crossReferences|         description|      drugType|hasBeenWithdrawn|           id|            inchiKey|isApproved|      linkedDiseases|       linkedTargets|maximumClinicalTrialPhase|                name|     parentId|            synonyms|          tradeNames|yearOfFirstApproval|\n",
      "+---------------+--------------------+--------------------+--------------------+--------------------+--------------+----------------+-------------+--------------------+----------+--------------------+--------------------+-------------------------+--------------------+-------------+--------------------+--------------------+-------------------+\n",
      "|          false|Cc1cc(CN2CCN(c3c(...|                null|                null|Small molecule drug.|Small molecule|           false|CHEMBL1086582|UUGWPYPNRZQDFO-UH...|      null|                null|                null|                     null|       CHEMBL1086582|         null|                  []|                  []|               null|\n",
      "|          false|CNCc1ccc(-c2[nH]c...|[CHEMBL2105733, C...|{[rucaparib%20cam...|Small molecule dr...|Small molecule|           false|CHEMBL1173055|HMABYWSNWIZPAG-UH...|      true|{24, [EFO_0003060...|{3, [ENSG00000143...|                      4.0|           RUCAPARIB|         null|[AG-014699, AG-14...|                  []|               2016|\n",
      "|          false|CC(=O)N(c1onc(C)c...|                null|{[sulfisoxazole%2...|Small molecule dr...|Small molecule|           false|CHEMBL1200910|JFNWFXVFBDDWCX-UH...|      true|                null|             {0, []}|                      4.0|SULFISOXAZOLE ACETYL|         null|[Acetyl sulfafura...|[Gantrisin, Gantr...|               1953|\n",
      "|          false|COc1ccc(C[C@@H]2c...|     [CHEMBL1200641]|{[cisatracurium%2...|Small molecule dr...|Small molecule|           false|CHEMBL1201248|YXSLJKQTIDHPOT-LJ...|      true|  {1, [EFO_1000637]}|{5, [ENSG00000138...|                      4.0|       CISATRACURIUM|         null|[Cisatracurium, C...|            [Nimbex]|               1995|\n",
      "|           true|                null|                null|{[estrogens,%20es...|Small molecule dr...|Small molecule|           false|CHEMBL1201468|                null|      true|{5, [EFO_1000096,...|{2, [ENSG00000140...|                      4.0|ESTROGENS, ESTERI...|         null|[Esterified estro...|[Amnestrogen, Est...|               1977|\n",
      "|          false|                null|                null|{[hyaluronidase%2...|Enzyme drug with ...|        Enzyme|           false|CHEMBL1201718|                null|      true|{20, [EFO_1000668...|                null|                      4.0|HYALURONIDASE (HU...|         null|[Chemophase, Enha...|[Cumulase, Hylene...|               2005|\n",
      "|           true|CC(=O)Oc1cc2c(s1)...|     [CHEMBL1201773]|{[prasugrel%20hyd...|Small molecule dr...|Small molecule|           false|CHEMBL1201772|DTGLZDAWLRGWQN-UH...|      true|{17, [EFO_0003777...|{1, [ENSG00000169...|                      4.0|           PRASUGREL|         null|[LY-640315, NSC-7...|            [Efient]|               2009|\n",
      "|          false|COc1ccc(-c2cc3c(C...|                null|{null, null, null...|Small molecule dr...|Small molecule|           false|CHEMBL1234354|XDLYKKIQACFMJG-WK...|     false|{3, [EFO_0003869,...|{9, [ENSG00000198...|                      2.0|         PF-04691502|         null|[PF-04691502, PF-...|                  []|               null|\n",
      "|          false|Cc1ccc(C(C)C)cc2c...|                null|{null, null, [170...|Small molecule dr...|Small molecule|           false|CHEMBL1408759|FWKQNCXZGNBPFD-UH...|     false|  {1, [EFO_0003966]}|                null|                     -1.0|          GUAIAZULEN|         null|[Guaiazulen, Guai...|                  []|               null|\n",
      "|          false|O=c1[nH]c2ccccc2n...|                null|{[pimozide], null...|Small molecule dr...|Small molecule|           false|   CHEMBL1423|YVUQSNJEYSNKRX-UH...|      true|{6, [MONDO_000509...|{6, [ENSG00000149...|                      4.0|            PIMOZIDE|         null|[MCN-JR-6238, NSC...|    [Orap, Pimozide]|               1984|\n",
      "|          false|CC[C@H]1OC(=O)[C@...|                null|{null, null, [144...|Small molecule drug.|Small molecule|           false|CHEMBL1476500|RXZBMPWDPOLZGW-HI...|      null|                null|                null|                     null|       CHEMBL1476500|         null|                  []|                  []|               null|\n",
      "|          false|           Cn1ccnc1S|                null|{[methimazole], n...|Small molecule dr...|Small molecule|           false|   CHEMBL1515|PMRYVIKBURPHAH-UH...|      true|{6, [HP_0000820, ...|{1, [ENSG00000115...|                      4.0|         METHIMAZOLE|         null|[Mercaptizole, Me...|[Favistan, Methim...|               1950|\n",
      "|          false|    c1ccc2[nH]ccc2c1|                null|{null, null, [144...|Small molecule drug.|Small molecule|           false|  CHEMBL15844|SIKJAQJRHWYJAI-UH...|      null|                null|                null|                     null|              INDOLE|         null|            [Indole]|                  []|               null|\n",
      "|          false|COc1cccc(N(C)C(=S...|                null|{null, null, [144...|Small molecule drug.|Small molecule|           false|CHEMBL1591365|VPHPQNGOVQYUMG-UH...|     false|                null|             {0, []}|                     -1.0|         LIRANAFTATE|         null|[Liranaftate, Pir...|                  []|               null|\n",
      "|          false|             CC(N)=O|                null|{null, null, [111...|Small molecule drug.|Small molecule|           false|  CHEMBL16081|DLFVBJFMPXGRIB-UH...|      null|                null|                null|                     null|           ACETAMIDE|         null|         [Acetamide]|                  []|               null|\n",
      "|          false|Nc1nc(=O)c2nc(CNc...|     [CHEMBL2107429]|{[folic%20acid], ...|Small molecule dr...|Small molecule|           false|   CHEMBL1622|OVBPIULPVIDEAO-LB...|      true|{71, [EFO_1001231...|                null|                      4.0|          FOLIC ACID|         null|[Acidum folicum, ...|[Bio science, Fol...|               null|\n",
      "|          false|C=C1C[C@@H]2CC[C@...|                null|{[eribulin%20mesy...|Small molecule dr...|Small molecule|           false|CHEMBL1683544|QAMYWGZHLCQOOJ-WR...|      true|{20, [EFO_0003060...|{15, [ENSG0000018...|                      4.0|   ERIBULIN MESYLATE|CHEMBL1683590|[E-7389, E7389, E...|           [Halaven]|               2010|\n",
      "|           true|COc1cc(N)c(Cl)cc1...|     [CHEMBL1200788]|{null, null, [144...|Small molecule dr...|Small molecule|            true|   CHEMBL1729|DCSUBABJRXZOMT-UH...|      true|  {1, [EFO_0010282]}|{1, [ENSG00000164...|                      4.0|           CISAPRIDE|         null|[Cisapride, Cisap...|[Alimix, Prepulsi...|               1993|\n",
      "|          false|                null|                null|                null|Antibody drug wit...|      Antibody|           false|CHEMBL1743065|                null|     false|                null|{1, [ENSG00000187...|                      2.0|           ROLEDUMAB|         null|         [Roledumab]|                  []|               null|\n",
      "|           true|N#CC[C@H](C1CCCC1...|[CHEMBL1795071, C...|{[ruxolitinib%20p...|Small molecule dr...|Small molecule|           false|CHEMBL1789941|HFNKQEVNSGCOJV-OA...|      true|{70, [EFO_0003086...|{2, [ENSG00000162...|                      4.0|         RUXOLITINIB|         null|[INC-424, INC424,...|            [Jakavi]|               2011|\n",
      "+---------------+--------------------+--------------------+--------------------+--------------------+--------------+----------------+-------------+--------------------+----------+--------------------+--------------------+-------------------------+--------------------+-------------+--------------------+--------------------+-------------------+\n",
      "only showing top 20 rows\n",
      "\n"
     ]
    },
    {
     "name": "stderr",
     "output_type": "stream",
     "text": [
      "                                                                                \r"
     ]
    }
   ],
   "source": [
    "molecule_path = \"gs://open-targets-data-releases/23.12/output/etl/json/molecule\"\n",
    "molecule = spark.read.json(molecule_path)\n",
    "molecule.persist()\n",
    "molecule.show()"
   ]
  },
  {
   "cell_type": "code",
   "execution_count": 14,
   "metadata": {},
   "outputs": [
    {
     "name": "stdout",
     "output_type": "stream",
     "text": [
      "+-------------+--------------------+--------------------+------+--------------+--------------------+---------------+--------------------+-----------+----------+------------+----------+------------+---------------------+\n",
      "|brandDrugName|    originalDrugName|            drugName|drugId|       sponsor|          properties|therapeuticArea|          indication|diseaseName|diseaseIds|diseaseClass|reviewType|yearApproval|originalDrugNameArray|\n",
      "+-------------+--------------------+--------------------+------+--------------+--------------------+---------------+--------------------+-----------+----------+------------+----------+------------+---------------------+\n",
      "|      Leqembi|           Lecanemab|           LECANEMAB|   NaN|  Eisai/Biogen|Amyloid-_-targete...|            NaN|   Alzheimer disease|        NaN|       NaN|         NaN|       NaN|        2023|          [Lecanemab]|\n",
      "|    Brenzavvy|       Bexagliflozin|       BEXAGLIFLOZIN|   NaN|   Theracosbio|     SGLT2 inhibitor|            NaN|Glycaemic control...|        NaN|       NaN|         NaN|       NaN|        2023|      [Bexagliflozin]|\n",
      "|     Jaypirca|       Pirtobrutinib|       PIRTOBRUTINIB|   NaN|Loxo/Eli Lilly|       BTK inhibitor|            NaN|Mantle cell lymphoma|        NaN|       NaN|         NaN|       NaN|        2023|      [Pirtobrutinib]|\n",
      "|      Orserdu|         Elacestrant|         ELACESTRANT|   NaN|      Stemline|       ER antagonist|            NaN|ER-positive, HER2...|        NaN|       NaN|         NaN|       NaN|        2023|        [Elacestrant]|\n",
      "|    Jesduvroq|         Daprodustat|         DAPRODUSTAT|   NaN|           GSK|    HIF-PH inhibitor|            NaN|Anaemia caused by...|        NaN|       NaN|         NaN|       NaN|        2023|        [Daprodustat]|\n",
      "|      Lamzede|      Velmanase alfa|      VELMANASE ALFA|   NaN|        Chiesi|Recombinant _-man...|            NaN|Non-CNS manifesta...|        NaN|       NaN|         NaN|       NaN|        2023|     [Velmanase alfa]|\n",
      "|     Filspari|          Sparsentan|          SPARSENTAN|   NaN|       Travere|Endothelin and an...|            NaN|Proteinuria in pr...|        NaN|       NaN|         NaN|       NaN|        2023|         [Sparsentan]|\n",
      "|    Skyclarys|       Omaveloxolone|       OMAVELOXOLONE|   NaN|  Reata/Biogen|Mechanism unknown...|            NaN|  FriedrichÕs ataxia|        NaN|       NaN|         NaN|       NaN|        2023|      [Omaveloxolone]|\n",
      "|     Zavzpret|          Zavegepant|          ZAVEGEPANT|   NaN|        Pfizer|CGRP receptor ant...|            NaN|            Migraine|        NaN|       NaN|         NaN|       NaN|        2023|         [Zavegepant]|\n",
      "|       Daybue|         Trofinetide|         TROFINETIDE|   NaN|        Acadia|   Mechanism unknown|            NaN|       Rett syndrome|        NaN|       NaN|         NaN|       NaN|        2023|        [Trofinetide]|\n",
      "|        Zynyz|        Retifanlimab|        RETIFANLIMAB|   NaN|        Incyte|    PD1-targeted mAb|            NaN|Merkel cell carci...|        NaN|       NaN|         NaN|       NaN|        2023|       [Retifanlimab]|\n",
      "|      Rezzayo|          Rezafungin|          REZAFUNGIN|   NaN|        Cidara|Echinocandin anti...|            NaN|Candidemia and in...|        NaN|       NaN|         NaN|       NaN|        2023|         [Rezafungin]|\n",
      "|       Joenja|          Leniolisib|          LENIOLISIB|   NaN|      Pharming|     PI3K_ inhibitor|            NaN|Activated PI3K_ s...|        NaN|       NaN|         NaN|       NaN|        2023|         [Leniolisib]|\n",
      "|      Qalsody|            Tofersen|            TOFERSEN|   NaN|        Biogen|   SOD1-targeted ASO|            NaN|SOD1Êamyotrophic ...|        NaN|       NaN|         NaN|       NaN|        2023|           [Tofersen]|\n",
      "|     Elfabrio|Pegunigalsidase alfa|PEGUNIGALSIDASE ALFA|   NaN|        Chiesi|PEGylated recombi...|            NaN|       Fabry disease|        NaN|       NaN|         NaN|       NaN|        2023| [Pegunigalsidase ...|\n",
      "|       Veozah|        Fezolinetant|        FEZOLINETANT|   NaN|      Astellas|Neurokinin 3 rece...|            NaN|Hot flashes cause...|        NaN|       NaN|         NaN|       NaN|        2023|       [Fezolinetant]|\n",
      "|        Miebo|Perfluorohexyloctane|PERFLUOROHEXYLOCTANE|   NaN| Bausch + Lomb|Semifluorinated a...|            NaN|     Dry eye disease|        NaN|       NaN|         NaN|       NaN|        2023| [Perfluorohexyloc...|\n",
      "|      Epkinly|         Epcoritamab|         EPCORITAMAB|   NaN| Genmab/AbbVie|CD20 _ CD3 T-cell...|            NaN|DLBCL and high-gr...|        NaN|       NaN|         NaN|       NaN|        2023|        [Epcoritamab]|\n",
      "|      Xacduro|Sulbactam, durlob...|           SULBACTAM|   NaN|       Entasis|_-lactam antibact...|            NaN|Hospital-acquired...|        NaN|       NaN|         NaN|       NaN|        2023| [Sulbactam,  durl...|\n",
      "|      Xacduro|Sulbactam, durlob...|         DURLOBACTAM|   NaN|       Entasis|_-lactam antibact...|            NaN|Hospital-acquired...|        NaN|       NaN|         NaN|       NaN|        2023| [Sulbactam,  durl...|\n",
      "+-------------+--------------------+--------------------+------+--------------+--------------------+---------------+--------------------+-----------+----------+------------+----------+------------+---------------------+\n",
      "only showing top 20 rows\n",
      "\n"
     ]
    }
   ],
   "source": [
    "# Convert the content of the column to uppercase\n",
    "exploded_approvals_up = exploded_approvals.withColumn(\"drugName\", upper(exploded_approvals[\"drugName\"]))\n",
    "\n",
    "# Show the result\n",
    "exploded_approvals_up.show()"
   ]
  },
  {
   "cell_type": "code",
   "execution_count": 17,
   "metadata": {},
   "outputs": [],
   "source": [
    "def join_dataframes(initial_df: DataFrame, \n",
    "                    second_df: DataFrame, \n",
    "                    initial_key_column: str, \n",
    "                    second_key_column: str,\n",
    "                    columns_to_join: list) -> DataFrame:\n",
    "    \"\"\"\n",
    "    Joins two PySpark DataFrames on specified key columns.\n",
    "\n",
    "    Args:\n",
    "    initial_df (DataFrame): The initial PySpark DataFrame.\n",
    "    second_df (DataFrame): The second PySpark DataFrame to join with.\n",
    "    initial_key_column (str): The key column name in the initial DataFrame.\n",
    "    second_key_column (str): The key column name in the second DataFrame.\n",
    "    columns_to_join (list): List of column names from the second DataFrame to include in the join.\n",
    "\n",
    "    Returns:\n",
    "    DataFrame: The resulting DataFrame after the join.\n",
    "    \"\"\"\n",
    "\n",
    "    # Selecting specified columns from the second DataFrame, including its key column\n",
    "    second_df_selected = second_df.select([second_key_column] + columns_to_join)\n",
    "\n",
    "    # Performing the left join\n",
    "    joined_df = initial_df.join(second_df_selected, \n",
    "                                initial_df[initial_key_column] == second_df_selected[second_key_column], \n",
    "                                how='left')\n",
    "\n",
    "    # Drop the second key column if not needed\n",
    "    joined_df = joined_df.drop(second_df_selected[second_key_column])\n",
    "\n",
    "    return joined_df"
   ]
  },
  {
   "cell_type": "code",
   "execution_count": 18,
   "metadata": {},
   "outputs": [],
   "source": [
    "# List of columns from molecule table\n",
    "list = [\"id\"]\n",
    "\n",
    "name2chembl = join_dataframes(exploded_approvals_up, molecule, \"drugName\", \"name\", list).persist()"
   ]
  },
  {
   "cell_type": "code",
   "execution_count": 20,
   "metadata": {},
   "outputs": [],
   "source": [
    "# Delete the column\n",
    "name2chembl = name2chembl.drop('drugId').withColumnRenamed('id', 'drugId')"
   ]
  },
  {
   "cell_type": "markdown",
   "metadata": {},
   "source": [
    "### Indications search"
   ]
  },
  {
   "cell_type": "code",
   "execution_count": 21,
   "metadata": {},
   "outputs": [],
   "source": [
    "from pyspark.sql import SparkSession\n",
    "import pandas as pd\n",
    "import requests"
   ]
  },
  {
   "cell_type": "code",
   "execution_count": 22,
   "metadata": {},
   "outputs": [],
   "source": [
    "def ols_query(query):\n",
    "    api_url = f\"https://www.ebi.ac.uk/ols/api/search?q={query}&groupField=iri&start=0&ontology=efo\"\n",
    "    response = requests.get(api_url)\n",
    "    response_json = response.json()\n",
    "    \n",
    "    if response_json[\"response\"][\"numFound\"] > 0:\n",
    "        docs = response_json[\"response\"][\"docs\"]\n",
    "        obo_id = docs[0][\"iri\"]\n",
    "        label = docs[0][\"label\"]\n",
    "        return [obo_id, label]\n",
    "    else:\n",
    "        return [None, None]\n"
   ]
  },
  {
   "cell_type": "code",
   "execution_count": 23,
   "metadata": {},
   "outputs": [],
   "source": [
    "# Convert Spark DataFrame to Pandas DataFrame\n",
    "name2chembl_pandas = name2chembl.toPandas()"
   ]
  },
  {
   "cell_type": "code",
   "execution_count": 24,
   "metadata": {},
   "outputs": [],
   "source": [
    "# Apply the function to the column\n",
    "results = name2chembl_pandas['indication'].apply(ols_query)"
   ]
  },
  {
   "cell_type": "code",
   "execution_count": 33,
   "metadata": {},
   "outputs": [
    {
     "name": "stderr",
     "output_type": "stream",
     "text": [
      "/tmp/ipykernel_5930/3088488526.py:8: FutureWarning: The default value of regex will change from True to False in a future version.\n",
      "  indications['diseaseIds'] = indications['diseaseIds'].str.replace('http://purl.obolibrary.org/obo/', '').str.replace('http://www.ebi.ac.uk/efo/', '')\n"
     ]
    }
   ],
   "source": [
    "# Convert the results to a Pandas DataFrame and concatenate with the original DataFrame\n",
    "results_df = pd.DataFrame(results.tolist(), columns=['obo_id', 'label'])\n",
    "indications = pd.concat([name2chembl_pandas, results_df], axis=1)\\\n",
    "                .drop(columns=['diseaseName', 'diseaseIds', 'originalDrugNameArray'])\\\n",
    "                .rename(columns={'label': 'diseaseName'})\\\n",
    "                .rename(columns={'obo_id': 'diseaseIds'})\\\n",
    "\n",
    "indications['diseaseIds'] = indications['diseaseIds'].str.replace('http://purl.obolibrary.org/obo/', '').str.replace('http://www.ebi.ac.uk/efo/', '')\n",
    "\n",
    "indications.to_csv(\"../../data/2023/2023_approvals_in_v01.csv\")"
   ]
  },
  {
   "cell_type": "code",
   "execution_count": null,
   "metadata": {},
   "outputs": [],
   "source": []
  },
  {
   "cell_type": "code",
   "execution_count": null,
   "metadata": {},
   "outputs": [],
   "source": []
  }
 ],
 "metadata": {
  "kernelspec": {
   "display_name": "Python 3",
   "language": "python",
   "name": "python3"
  },
  "language_info": {
   "codemirror_mode": {
    "name": "ipython",
    "version": 3
   },
   "file_extension": ".py",
   "mimetype": "text/x-python",
   "name": "python",
   "nbconvert_exporter": "python",
   "pygments_lexer": "ipython3",
   "version": "3.10.8"
  }
 },
 "nbformat": 4,
 "nbformat_minor": 2
}
